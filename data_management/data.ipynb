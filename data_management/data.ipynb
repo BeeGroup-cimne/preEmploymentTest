{
 "cells": [
  {
   "cell_type": "markdown",
   "metadata": {},
   "source": [
    "### Problem 2: Data management\n",
    "In the data_management folder you will find an [Excel file](data_management/data_2019.xls) containing data \n",
    "for 1 year of electricity consumption collected by billing information.\n",
    "\n",
    "We need to transform this data, by creating a time-series with regular daily frequency. If gaps are detected,\n",
    "they must appear as NaN values. You can use any\n",
    "python library like pandas to transform this data."
   ]
  },
  {
   "cell_type": "code",
   "execution_count": 1,
   "metadata": {},
   "outputs": [],
   "source": [
    "import pandas as pd\n",
    "import time\n",
    "import duckdb "
   ]
  },
  {
   "cell_type": "code",
   "execution_count": 2,
   "metadata": {},
   "outputs": [],
   "source": [
    "df = pd.read_excel(\"data_2019.xls\",usecols=[\"d_ini\",\"d_end\",\"kwh\"]) # read excel\n",
    "df = df.dropna() # delete missing values"
   ]
  },
  {
   "cell_type": "code",
   "execution_count": 3,
   "metadata": {},
   "outputs": [
    {
     "data": {
      "text/plain": [
       "5.877971649169922"
      ]
     },
     "execution_count": 3,
     "metadata": {},
     "output_type": "execute_result"
    }
   ],
   "source": [
    "def update_values(row):\n",
    "    dates.loc[row['d_ini']:row['d_end']] = row['kwh']/ ((row['d_end'] - row['d_ini']).days + 1)\n",
    "\n",
    "start = time.time()\n",
    "dates = pd.Series(index=pd.date_range(start=df['d_ini'].min(), end=df['d_end'].max(), freq='D'), name=\"kwh\") # create the daily frequency\n",
    "df.apply(update_values,axis = 1)\n",
    "    \n",
    "end = time.time()\n",
    "1000*(end-start)"
   ]
  },
  {
   "cell_type": "markdown",
   "metadata": {},
   "source": [
    "DuckDB store the daily data `dates` in a persistent table called consumption at `../rest_api/electricity.db` (problem 3)"
   ]
  },
  {
   "cell_type": "code",
   "execution_count": 4,
   "metadata": {},
   "outputs": [],
   "source": [
    "def df_to_DBtable(df, table_name, NEW_DB=\":default:\"):\n",
    "    con = duckdb.connect(NEW_DB)\n",
    "    con.execute(f'CREATE OR REPLACE TABLE {table_name} AS SELECT * FROM {df}')\n",
    "    con.close()\n",
    "    \n",
    "df_dates = pd.DataFrame({'date':dates.index,'kwh':dates.values})\n",
    "df_to_DBtable(\"df_dates\",\"consumption\",\"../rest_api/electricity.db\")"
   ]
  }
 ],
 "metadata": {
  "kernelspec": {
   "display_name": "Python 3",
   "language": "python",
   "name": "python3"
  },
  "language_info": {
   "codemirror_mode": {
    "name": "ipython",
    "version": 3
   },
   "file_extension": ".py",
   "mimetype": "text/x-python",
   "name": "python",
   "nbconvert_exporter": "python",
   "pygments_lexer": "ipython3",
   "version": "3.10.12"
  }
 },
 "nbformat": 4,
 "nbformat_minor": 2
}
